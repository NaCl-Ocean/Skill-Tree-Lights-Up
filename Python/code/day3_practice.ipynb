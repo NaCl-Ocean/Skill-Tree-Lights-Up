{
 "cells": [
  {
   "cell_type": "markdown",
   "metadata": {},
   "source": [
    "# 题目一\n",
    "写函数，检查用户传入的对象（字符串、列表、元组）的每一个元素是否含有空内容。"
   ]
  },
  {
   "cell_type": "code",
   "execution_count": 6,
   "metadata": {},
   "outputs": [
    {
     "name": "stdout",
     "output_type": "stream",
     "text": [
      "False\n"
     ]
    }
   ],
   "source": [
    "def detect_none(obj):\n",
    "    \n",
    "    if bool(obj) and all(obj):\n",
    "        return True\n",
    "    else:\n",
    "        return False\n",
    "\n",
    "print(detect_none([]))"
   ]
  },
  {
   "cell_type": "markdown",
   "metadata": {},
   "source": [
    "# 题目二\n",
    "写函数，检查传入字典的每一个value的长度,如果大于2，那么仅保留前两个长度的内容（对value的值进行截断），并将新内容返回给调用者，注意传入的数据可以是字符、list、dict"
   ]
  },
  {
   "cell_type": "code",
   "execution_count": 14,
   "metadata": {},
   "outputs": [
    {
     "name": "stdout",
     "output_type": "stream",
     "text": [
      "{1: 'te', 2: 'te', 3: 'na'}\n"
     ]
    }
   ],
   "source": [
    "def truncate_len_2(obj):\n",
    "    if isinstance(obj,dict):\n",
    "        temp = list(map(lambda x:x if len(x)<2 else x[:2],obj.values()))\n",
    "        return dict(zip(obj.keys(),temp))\n",
    "    elif isinstance(obj,list):\n",
    "        return list(map(lambda x:x if len(x)<2 else x[:2],obj))\n",
    "    elif isinstance(obj,str):\n",
    "        return obj if len(obj)<2 else obj[:2]\n",
    "\n",
    "print(truncate_len_2({1:'test',2:'te',3:'name'}))\n",
    "                    "
   ]
  },
  {
   "cell_type": "markdown",
   "metadata": {},
   "source": [
    "# 题目三\n",
    "解释闭包的概念"
   ]
  },
  {
   "cell_type": "markdown",
   "metadata": {},
   "source": [
    "在func1中定义了一个嵌套函数func2，func1返回func2，此时返回 的func2不单单是函数对象，同时包括一层作用域（func1中声明的局部变量、参数）。"
   ]
  },
  {
   "cell_type": "markdown",
   "metadata": {},
   "source": [
    "# 题目四\n",
    "写函数，返回一个扑克牌列表，里面有52项，每一项是一个元组\n",
    "\n",
    "例如：[(‘红心’，2),(‘草花’，2), …(‘黑桃A’)]"
   ]
  },
  {
   "cell_type": "code",
   "execution_count": 15,
   "metadata": {},
   "outputs": [
    {
     "name": "stdout",
     "output_type": "stream",
     "text": [
      "[('黑桃', 'A'), ('黑桃', 2), ('黑桃', 3), ('黑桃', 4), ('黑桃', 5), ('黑桃', 6), ('黑桃', 7), ('黑桃', 8), ('黑桃', 9), ('黑桃', 10), ('黑桃', 'J'), ('黑桃', 'Q'), ('黑桃', 'K'), ('红桃', 'A'), ('红桃', 2), ('红桃', 3), ('红桃', 4), ('红桃', 5), ('红桃', 6), ('红桃', 7), ('红桃', 8), ('红桃', 9), ('红桃', 10), ('红桃', 'J'), ('红桃', 'Q'), ('红桃', 'K'), ('梅花', 'A'), ('梅花', 2), ('梅花', 3), ('梅花', 4), ('梅花', 5), ('梅花', 6), ('梅花', 7), ('梅花', 8), ('梅花', 9), ('梅花', 10), ('梅花', 'J'), ('梅花', 'Q'), ('梅花', 'K'), ('方块', 'A'), ('方块', 2), ('方块', 3), ('方块', 4), ('方块', 5), ('方块', 6), ('方块', 7), ('方块', 8), ('方块', 9), ('方块', 10), ('方块', 'J'), ('方块', 'Q'), ('方块', 'K')]\n"
     ]
    }
   ],
   "source": [
    "def create_playingcards():\n",
    "    colors = ['黑桃','红桃','梅花','方块']\n",
    "    nums = ['A',2,3,4,5,6,7,8,9,10,'J','Q','K']\n",
    "    cards = list()\n",
    "    for color in colors:\n",
    "        for num in nums:\n",
    "            cards.append((color,num))\n",
    "    return cards\n",
    "\n",
    "print(create_playingcards())"
   ]
  },
  {
   "cell_type": "markdown",
   "metadata": {},
   "source": [
    "# 题目五\n",
    "写函数，传入n个数，返回字典{‘max’:最大值,’min’:最小值}"
   ]
  },
  {
   "cell_type": "code",
   "execution_count": 17,
   "metadata": {},
   "outputs": [
    {
     "data": {
      "text/plain": [
       "{'max': 6, 'min': 1}"
      ]
     },
     "execution_count": 17,
     "metadata": {},
     "output_type": "execute_result"
    }
   ],
   "source": [
    "def problem_5(*args,**kwargs):\n",
    "    max_num = max(args)\n",
    "    min_num = min(args)\n",
    "    return {'max':max_num,'min':min_num}\n",
    "\n",
    "problem_5(1,2,3,4,5,6)"
   ]
  },
  {
   "cell_type": "markdown",
   "metadata": {},
   "source": [
    "# 题目六\n",
    "写函数，专门计算图形的面积\n",
    "\n",
    "其中嵌套函数，计算圆的面积，正方形的面积和长方形的面积\n",
    "\n",
    "- 调用函数area(‘圆形’,圆半径) 返回圆的面积\n",
    "\n",
    "- 调用函数area(‘正方形’,边长) 返回正方形的面积\n",
    "\n",
    "- 调用函数area(‘长方形’,长，宽) 返回长方形的面积"
   ]
  },
  {
   "cell_type": "code",
   "execution_count": 24,
   "metadata": {},
   "outputs": [
    {
     "data": {
      "text/plain": [
       "12"
      ]
     },
     "execution_count": 24,
     "metadata": {},
     "output_type": "execute_result"
    }
   ],
   "source": [
    "import math\n",
    "def area(shape,*args,**kwargs):\n",
    "    def circle(radius):\n",
    "        return round(math.pi*radius*radius,3)\n",
    "    def rectangle(length,width):\n",
    "        return length*width\n",
    "    def square(side_leng):\n",
    "        return side_leng**2\n",
    "    \n",
    "    if shape == '圆形':\n",
    "        return circle(args[0])\n",
    "    elif shape == '长方形':\n",
    "        return rectangle(args[0],args[1])\n",
    "    elif shape == '正方形':\n",
    "        return square(args[0])\n",
    "    \n",
    "area('长方形',3,4)"
   ]
  },
  {
   "cell_type": "markdown",
   "metadata": {},
   "source": [
    "# 题目六\n",
    "写函数，传入一个参数n，返回n的阶乘"
   ]
  },
  {
   "cell_type": "code",
   "execution_count": 26,
   "metadata": {},
   "outputs": [
    {
     "data": {
      "text/plain": [
       "720"
      ]
     },
     "execution_count": 26,
     "metadata": {},
     "output_type": "execute_result"
    }
   ],
   "source": [
    "def factorial(n):\n",
    "    if n==1:\n",
    "        return n\n",
    "    return n*factorial(n-1)\n",
    "factorial(6)"
   ]
  },
  {
   "cell_type": "markdown",
   "metadata": {},
   "source": [
    "# 题目八\n",
    "编写装饰器，为多个函数加上认证的功能（用户的账号密码来源于文件），要求登录成功一次，后续的函数都无需再输入用户名和密码"
   ]
  },
  {
   "cell_type": "code",
   "execution_count": 27,
   "metadata": {},
   "outputs": [
    {
     "ename": "SyntaxError",
     "evalue": "invalid syntax (<ipython-input-27-d9d2ce888416>, line 1)",
     "output_type": "error",
     "traceback": [
      "\u001b[1;36m  File \u001b[1;32m\"<ipython-input-27-d9d2ce888416>\"\u001b[1;36m, line \u001b[1;32m1\u001b[0m\n\u001b[1;33m    def login()\u001b[0m\n\u001b[1;37m               ^\u001b[0m\n\u001b[1;31mSyntaxError\u001b[0m\u001b[1;31m:\u001b[0m invalid syntax\n"
     ]
    }
   ],
   "source": [
    "def login()"
   ]
  },
  {
   "cell_type": "markdown",
   "metadata": {},
   "source": [
    "# 题目九\n",
    "生成器和迭代器的区别？"
   ]
  },
  {
   "cell_type": "markdown",
   "metadata": {},
   "source": [
    "生成器是一种特殊的迭代器，迭代器的范围更广，任意一个对象，只要定义了__iter__方法和__next__方法，就是迭代器。可迭代对象可以通过iter(iterable）的方法转化为迭代器。而生成器通过yield和生成器表达式来定义。"
   ]
  },
  {
   "cell_type": "markdown",
   "metadata": {},
   "source": [
    "# 题目十\n",
    "如下，每个小字典的name对应股票名字，shares对应多少股，price对应股票的价格\n",
    "\n",
    "portfolio = [\n",
    "    {‘name’: ‘IBM’, ‘shares’: 100, ‘price’: 91.1},\n",
    "    {‘name’: ‘AAPL’, ‘shares’: 50, ‘price’: 543.22},\n",
    "    {‘name’: ‘FB’, ‘shares’: 200, ‘price’: 21.09},\n",
    "    {‘name’: ‘HPQ’, ‘shares’: 35, ‘price’: 31.75},\n",
    "    {‘name’: ‘YHOO’, ‘shares’: 45, ‘price’: 16.35},\n",
    "    {‘name’: ‘ACME’, ‘shares’: 75, ‘price’: 115.65}\n",
    "]\n",
    "\n",
    "- 通过哪个内置函数可以计算购买每支股票的总价\n",
    "\n",
    "- 用filter过滤出，单价大于100的股票有哪些\n"
   ]
  },
  {
   "cell_type": "code",
   "execution_count": 29,
   "metadata": {},
   "outputs": [],
   "source": [
    "portfolio = [ \n",
    "    {'name': 'IBM','shares': 100,'price': 91.1}, \n",
    "    {'name': 'AAPL', 'shares': 50, 'price': 543.22}, \n",
    "    {'name': 'FB', 'shares': 200,'price': 21.09}, \n",
    "    {'name': 'HPQ', 'shares': 35, 'price': 31.75}, \n",
    "    {'name': 'YHOO', 'shares': 45, 'price': 16.35}, \n",
    "    {'name': 'ACME', 'shares': 75, 'price': 115.65} ]"
   ]
  },
  {
   "cell_type": "code",
   "execution_count": 30,
   "metadata": {},
   "outputs": [
    {
     "data": {
      "text/plain": [
       "[9110.0, 27161.0, 4218.0, 1111.25, 735.7500000000001, 8673.75]"
      ]
     },
     "execution_count": 30,
     "metadata": {},
     "output_type": "execute_result"
    }
   ],
   "source": [
    "list(map(lambda x:x['shares']*x['price'],portfolio))"
   ]
  },
  {
   "cell_type": "code",
   "execution_count": 31,
   "metadata": {},
   "outputs": [
    {
     "data": {
      "text/plain": [
       "[{'name': 'AAPL', 'shares': 50, 'price': 543.22},\n",
       " {'name': 'ACME', 'shares': 75, 'price': 115.65}]"
      ]
     },
     "execution_count": 31,
     "metadata": {},
     "output_type": "execute_result"
    }
   ],
   "source": [
    "list(filter(lambda x:x['price']>100,portfolio))"
   ]
  },
  {
   "cell_type": "markdown",
   "metadata": {},
   "source": [
    "# 题目十一\n",
    "\n",
    "有列表 li = [‘alex’, ‘egon’, ‘smith’, ‘pizza’, ‘alen’], \n",
    "请将以字母“a”开头的元素的首字母改为大写字母；\n"
   ]
  },
  {
   "cell_type": "code",
   "execution_count": 34,
   "metadata": {},
   "outputs": [
    {
     "data": {
      "text/plain": [
       "['Alex', 'egon', 'smith', 'pizza', 'Alen']"
      ]
     },
     "execution_count": 34,
     "metadata": {},
     "output_type": "execute_result"
    }
   ],
   "source": [
    " li = ['alex', 'egon', 'smith', 'pizza', 'alen']\n",
    "def problem_11(obj):\n",
    "    if obj.startswith('a'):\n",
    "        return obj.title()\n",
    "    else:\n",
    "        return obj\n",
    "    \n",
    "list(map(problem_11,li))\n",
    "        "
   ]
  },
  {
   "cell_type": "markdown",
   "metadata": {},
   "source": [
    "# 题目十二\n",
    "有列表 \n",
    "li = [‘alex’, ‘egon’, ‘smith’, ‘pizza’, ‘alen’], \n",
    "请以列表中每个元素的第二个字母倒序排序；"
   ]
  },
  {
   "cell_type": "code",
   "execution_count": 35,
   "metadata": {},
   "outputs": [],
   "source": [
    "def get_str_2(string):\n",
    "    return string[1]\n",
    "\n",
    "li.sort(key=get_str_2,reverse=True)"
   ]
  },
  {
   "cell_type": "code",
   "execution_count": 36,
   "metadata": {},
   "outputs": [
    {
     "data": {
      "text/plain": [
       "['smith', 'alex', 'alen', 'pizza', 'egon']"
      ]
     },
     "execution_count": 36,
     "metadata": {},
     "output_type": "execute_result"
    }
   ],
   "source": [
    "li"
   ]
  },
  {
   "cell_type": "markdown",
   "metadata": {},
   "source": [
    "# 题目十三\n",
    "写一个计算每个程序执行时间的装饰器；"
   ]
  },
  {
   "cell_type": "code",
   "execution_count": 41,
   "metadata": {},
   "outputs": [
    {
     "name": "stdout",
     "output_type": "stream",
     "text": [
      "1.0432453155517578\n"
     ]
    }
   ],
   "source": [
    "import time\n",
    "def cal_run_time(func):\n",
    "    def inner(*args,**kwargs):\n",
    "        start = time.time()\n",
    "        func(*args,**kwargs)\n",
    "        end = time.time()\n",
    "        print(end-start)\n",
    "        \n",
    "    return inner\n",
    "\n",
    "@cal_run_time\n",
    "def test(n):\n",
    "    j = 0\n",
    "    for i in range(n):\n",
    "        j += 1\n",
    "\n",
    "test(10000000)\n"
   ]
  },
  {
   "cell_type": "code",
   "execution_count": null,
   "metadata": {},
   "outputs": [],
   "source": []
  }
 ],
 "metadata": {
  "kernelspec": {
   "display_name": "Python 3",
   "language": "python",
   "name": "python3"
  },
  "language_info": {
   "codemirror_mode": {
    "name": "ipython",
    "version": 3
   },
   "file_extension": ".py",
   "mimetype": "text/x-python",
   "name": "python",
   "nbconvert_exporter": "python",
   "pygments_lexer": "ipython3",
   "version": "3.7.4"
  },
  "toc": {
   "base_numbering": 1,
   "nav_menu": {},
   "number_sections": true,
   "sideBar": true,
   "skip_h1_title": false,
   "title_cell": "Table of Contents",
   "title_sidebar": "Contents",
   "toc_cell": false,
   "toc_position": {},
   "toc_section_display": true,
   "toc_window_display": false
  }
 },
 "nbformat": 4,
 "nbformat_minor": 2
}
