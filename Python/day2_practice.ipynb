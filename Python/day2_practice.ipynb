{
 "cells": [
  {
   "cell_type": "markdown",
   "metadata": {},
   "source": [
    "# 题目一\n",
    "请用代码实现：利用下划线将列表的每一个元素拼接成字符串，li＝[‘alex’, ‘eric’, ‘rain’]"
   ]
  },
  {
   "cell_type": "code",
   "execution_count": 4,
   "metadata": {},
   "outputs": [
    {
     "name": "stdout",
     "output_type": "stream",
     "text": [
      "alex_eric_rain\n"
     ]
    }
   ],
   "source": [
    "li=['alex','eric','rain']\n",
    "print( '_'.join(li))"
   ]
  },
  {
   "cell_type": "markdown",
   "metadata": {},
   "source": [
    "# 题目二\n",
    "查找列表中元素，移除每个元素的空格，并查找以a或A开头并且以c结尾的所有元素。\n",
    "\n",
    "li = [\"alec\", \" aric\", \"Alex\", \"Tony\", \"rain\"]\n",
    "\n",
    "tu = (\"alec\", \" aric\", \"Alex\", \"Tony\", \"rain\")\n",
    "\n",
    "dic = {'k1': \"alex\", 'k2': ' aric', \"k3\": \"Alex\", \"k4\": \"Tony\"}"
   ]
  },
  {
   "cell_type": "code",
   "execution_count": 11,
   "metadata": {},
   "outputs": [],
   "source": [
    "li = [\"alec\", \" aric\", \"Alex\", \"Tony\", \"rain\"]\n",
    "tu = (\"alec\", \" aric\", \"Alex\", \"Tony\", \"rain\")\n",
    "dic = {'k1': \"alex\", 'k2': ' aric', \"k3\": \"Alex\", \"k4\": \"Tony\"}"
   ]
  },
  {
   "cell_type": "code",
   "execution_count": 17,
   "metadata": {},
   "outputs": [
    {
     "name": "stdout",
     "output_type": "stream",
     "text": [
      "['alec', 'aric', 'Alex', 'Tony', 'rain']\n"
     ]
    }
   ],
   "source": [
    "for i in range(len(li)):\n",
    "    li[i] = li[i].strip()\n",
    "    \n",
    "print(li)"
   ]
  },
  {
   "cell_type": "code",
   "execution_count": 20,
   "metadata": {},
   "outputs": [
    {
     "name": "stdout",
     "output_type": "stream",
     "text": [
      "{'rain', 'aric', 'Tony', 'alec', 'Alex'}\n"
     ]
    }
   ],
   "source": [
    "tu_list = list(tu)\n",
    "for i in range(len(tu_list)):\n",
    "    tu_list[i] = tu_list[i].strip()\n",
    "    \n",
    "tu_tu = set(tu_list)\n",
    "print(tu_tu)"
   ]
  },
  {
   "cell_type": "code",
   "execution_count": 21,
   "metadata": {},
   "outputs": [
    {
     "name": "stdout",
     "output_type": "stream",
     "text": [
      "{'k1': 'alex', 'k2': 'aric', 'k3': 'Alex', 'k4': 'Tony'}\n"
     ]
    }
   ],
   "source": [
    "for k in dic:\n",
    "    dic[k] = dic[k].strip()\n",
    "    \n",
    "print(dic)"
   ]
  },
  {
   "cell_type": "markdown",
   "metadata": {},
   "source": [
    "# 题目三\n",
    "li＝[‘alex’, ‘eric’, ‘rain’]\n",
    "\n",
    "实现如下功能：\n",
    "1. 计算列表长度并输出\n",
    "2. 列表中追加元素“seven”，并输出添加后的列表\n",
    "3. 请在列表的第1个位置插入元素“Tony”，并输出添加后的列表\n",
    "4. 请修改列表第2个位置的元素为“Kelly”，并输出修改后的列表\n",
    "5. 请删除列表中的元素“eric”，并输出修改后的列表\n",
    "6. 请删除列表中的第2个元素，并输出删除的元素的值和删除元素后的列表\n",
    "7. 请删除列表中的第3个元素，并输出删除元素后的列表\n",
    "8. 请删除列表中的第2至4个元素，并输出删除元素后的列表\n",
    "9. 请将列表所有的元素反转，并输出反转后的列表\n",
    "10. 请使用for、len、range输出列表的索引\n",
    "11. 请使用enumrate输出列表元素和序号（序号从100开始）\n",
    "12. 请使用for循环输出列表的所有元素"
   ]
  },
  {
   "cell_type": "code",
   "execution_count": 38,
   "metadata": {},
   "outputs": [],
   "source": [
    "li = ['alex', 'eric', 'rain']"
   ]
  },
  {
   "cell_type": "code",
   "execution_count": 39,
   "metadata": {},
   "outputs": [
    {
     "name": "stdout",
     "output_type": "stream",
     "text": [
      "3\n"
     ]
    }
   ],
   "source": [
    "print(len(li))"
   ]
  },
  {
   "cell_type": "code",
   "execution_count": 40,
   "metadata": {},
   "outputs": [
    {
     "name": "stdout",
     "output_type": "stream",
     "text": [
      "['alex', 'eric', 'rain', 'seven']\n"
     ]
    }
   ],
   "source": [
    "li.append('seven')\n",
    "print(li)"
   ]
  },
  {
   "cell_type": "code",
   "execution_count": 41,
   "metadata": {},
   "outputs": [
    {
     "name": "stdout",
     "output_type": "stream",
     "text": [
      "['Tony', 'alex', 'eric', 'rain', 'seven']\n"
     ]
    }
   ],
   "source": [
    "li.insert(0,\"Tony\")\n",
    "print(li)"
   ]
  },
  {
   "cell_type": "code",
   "execution_count": 42,
   "metadata": {},
   "outputs": [
    {
     "name": "stdout",
     "output_type": "stream",
     "text": [
      "['Tony', 'kelly', 'eric', 'rain', 'seven']\n"
     ]
    }
   ],
   "source": [
    "li[1] = 'kelly'\n",
    "print(li)"
   ]
  },
  {
   "cell_type": "code",
   "execution_count": 43,
   "metadata": {},
   "outputs": [
    {
     "name": "stdout",
     "output_type": "stream",
     "text": [
      "['Tony', 'kelly', 'rain', 'seven']\n"
     ]
    }
   ],
   "source": [
    "del li[li.index('eric')]\n",
    "print(li)"
   ]
  },
  {
   "cell_type": "code",
   "execution_count": 44,
   "metadata": {},
   "outputs": [
    {
     "name": "stdout",
     "output_type": "stream",
     "text": [
      "del element: kelly\n",
      "after del: ['Tony', 'rain', 'seven']\n"
     ]
    }
   ],
   "source": [
    "print('del element:',li.pop(1))\n",
    "print('after del:',li)"
   ]
  },
  {
   "cell_type": "code",
   "execution_count": 45,
   "metadata": {},
   "outputs": [
    {
     "name": "stdout",
     "output_type": "stream",
     "text": [
      "['Tony', 'rain']\n"
     ]
    }
   ],
   "source": [
    "del li[2]\n",
    "print(li)"
   ]
  },
  {
   "cell_type": "code",
   "execution_count": 52,
   "metadata": {},
   "outputs": [
    {
     "name": "stdout",
     "output_type": "stream",
     "text": [
      "['rain', 'Tony']\n"
     ]
    }
   ],
   "source": [
    "li.reverse()\n",
    "print(li)"
   ]
  },
  {
   "cell_type": "code",
   "execution_count": 54,
   "metadata": {},
   "outputs": [
    {
     "name": "stdout",
     "output_type": "stream",
     "text": [
      "['rain', 'Tony']\n"
     ]
    }
   ],
   "source": [
    "li_reverse = li[::-1]\n",
    "print(li_reverse)"
   ]
  },
  {
   "cell_type": "code",
   "execution_count": 46,
   "metadata": {},
   "outputs": [
    {
     "name": "stdout",
     "output_type": "stream",
     "text": [
      "0\n",
      "1\n"
     ]
    }
   ],
   "source": [
    "for i in range(len(li)):\n",
    "    print(i)"
   ]
  },
  {
   "cell_type": "code",
   "execution_count": 47,
   "metadata": {},
   "outputs": [
    {
     "name": "stdout",
     "output_type": "stream",
     "text": [
      "0 : Tony\n",
      "1 : rain\n"
     ]
    }
   ],
   "source": [
    "for index,element in  enumerate(li):\n",
    "    print(index,':',element)"
   ]
  },
  {
   "cell_type": "code",
   "execution_count": 49,
   "metadata": {},
   "outputs": [
    {
     "name": "stdout",
     "output_type": "stream",
     "text": [
      "Tony\n",
      "rain\n"
     ]
    }
   ],
   "source": [
    "for element in li:\n",
    "    print(element)"
   ]
  },
  {
   "cell_type": "markdown",
   "metadata": {},
   "source": [
    "# 题目四\n",
    "li = [\"hello\", 'seven', [\"mon\", [\"h\", \"kelly\"], 'all'], 123, 446]\n",
    "\n",
    "实现功能：\n",
    "1. 请根据索引输出“Kelly”\n",
    "2. 请使用索引找到’all’元素并将其修改为“ALL”，如：li[0][1][9]…"
   ]
  },
  {
   "cell_type": "code",
   "execution_count": 55,
   "metadata": {},
   "outputs": [],
   "source": [
    "li = [\"hello\", 'seven', [\"mon\", [\"h\", \"kelly\"], 'all'], 123, 446]"
   ]
  },
  {
   "cell_type": "code",
   "execution_count": 56,
   "metadata": {},
   "outputs": [
    {
     "name": "stdout",
     "output_type": "stream",
     "text": [
      "kelly\n"
     ]
    }
   ],
   "source": [
    "print(li[2][1][1])"
   ]
  },
  {
   "cell_type": "code",
   "execution_count": 57,
   "metadata": {},
   "outputs": [
    {
     "name": "stdout",
     "output_type": "stream",
     "text": [
      "['hello', 'seven', ['mon', ['h', 'kelly'], 'ALL'], 123, 446]\n"
     ]
    }
   ],
   "source": [
    "li[2][2]=\"ALL\"\n",
    "print(li)"
   ]
  },
  {
   "cell_type": "markdown",
   "metadata": {},
   "source": [
    "# 题目五\n",
    "tu = (\"alex\", [11, 22, {\"k1\": 'v1', \"k2\": [\"age\", \"name\"], \"k3\": (11,22,33)}, 44])\n",
    "\n",
    "实现功能：\n",
    "1. 讲述元组的特性\n",
    "2. 请问tu变量中的第一个元素“alex”是否可被修改？\n",
    "3. 请问tu变量中的”k2”对应的值是什么类型？是否可以被修改？如果可以，请在其中添加一个元素“Seven”\n",
    "4. 请问tu变量中的”k3”对应的值是什么类型？是否可以被修改？如果可以，请在其中添加一个元素“Seven”"
   ]
  },
  {
   "cell_type": "markdown",
   "metadata": {},
   "source": [
    "1.元组中的元素不可修改\n",
    "但如果元素是可变数据类型，则该元素可以修改"
   ]
  },
  {
   "cell_type": "markdown",
   "metadata": {},
   "source": [
    "2.不可以修改，字符串是不可变数据类型"
   ]
  },
  {
   "cell_type": "code",
   "execution_count": 58,
   "metadata": {},
   "outputs": [],
   "source": [
    "tu = (\"alex\", [11, 22, {\"k1\": 'v1', \"k2\": [\"age\", \"name\"], \"k3\": (11,22,33)}, 44])"
   ]
  },
  {
   "cell_type": "code",
   "execution_count": 59,
   "metadata": {},
   "outputs": [
    {
     "name": "stdout",
     "output_type": "stream",
     "text": [
      "('alex', [11, 22, {'k1': 'v1', 'k2': ['age', 'name', 'Seven'], 'k3': (11, 22, 33)}, 44])\n"
     ]
    }
   ],
   "source": [
    "tu[1][2]['k2'].append('Seven')\n",
    "print(tu)"
   ]
  },
  {
   "cell_type": "markdown",
   "metadata": {},
   "source": [
    "4. 不可以修改"
   ]
  },
  {
   "cell_type": "markdown",
   "metadata": {},
   "source": [
    "# 题目六\n",
    "\n",
    "实现如下要求：\n",
    "1. 将字符串s = “alex”转换成列表\n",
    "2. 将字符串s = “alex”转换成元祖\n",
    "3. 将列表li = [“alex”, “seven”]转换成元组\n",
    "4. 将元组tu = (‘Alex’, “seven”)转换成列表\n",
    "5. 将列表li = [“alex”, “seven”]转换成字典且字典的key按照10开始向后递增"
   ]
  },
  {
   "cell_type": "code",
   "execution_count": 71,
   "metadata": {},
   "outputs": [
    {
     "name": "stdout",
     "output_type": "stream",
     "text": [
      "['a', 'l', 'e', 'x']\n"
     ]
    }
   ],
   "source": [
    "s = list()\n",
    "s.extend('alex')\n",
    "print(s)"
   ]
  },
  {
   "cell_type": "code",
   "execution_count": 75,
   "metadata": {},
   "outputs": [
    {
     "name": "stdout",
     "output_type": "stream",
     "text": [
      "('a', 'l', 'e', 'x')\n"
     ]
    }
   ],
   "source": [
    "s = list()\n",
    "s.extend('alex')\n",
    "s_tup = tuple(s)\n",
    "print(s_tup)"
   ]
  },
  {
   "cell_type": "code",
   "execution_count": 74,
   "metadata": {},
   "outputs": [
    {
     "name": "stdout",
     "output_type": "stream",
     "text": [
      "('alex', 'seven')\n"
     ]
    }
   ],
   "source": [
    "li = ['alex', 'seven']\n",
    "li_tup = tuple(li)\n",
    "print(li_tup)"
   ]
  },
  {
   "cell_type": "code",
   "execution_count": 76,
   "metadata": {},
   "outputs": [
    {
     "name": "stdout",
     "output_type": "stream",
     "text": [
      "['Alex', 'seven']\n"
     ]
    }
   ],
   "source": [
    "tu = ('Alex', 'seven')\n",
    "tu_li = list(tu)\n",
    "print(tu_li)"
   ]
  },
  {
   "cell_type": "code",
   "execution_count": 77,
   "metadata": {},
   "outputs": [],
   "source": [
    "di = dict()\n",
    "for i in range(len(li)):\n",
    "    di[10+i] = li[i]"
   ]
  },
  {
   "cell_type": "code",
   "execution_count": 78,
   "metadata": {},
   "outputs": [
    {
     "name": "stdout",
     "output_type": "stream",
     "text": [
      "{10: 'alex', 11: 'seven'}\n"
     ]
    }
   ],
   "source": [
    "print(di)"
   ]
  },
  {
   "cell_type": "markdown",
   "metadata": {},
   "source": [
    "# 题目七\n",
    "有如下值集合[11,22,33,44,55,66,77,88,99,90]，将所有大于66的值保存至字典的第一个key中，将小于66的值保存至第二个key的值中。\n",
    "\n",
    "即：{‘k1’:大于66的所有值, ‘k2’:小于66的所有值}"
   ]
  },
  {
   "cell_type": "code",
   "execution_count": 86,
   "metadata": {},
   "outputs": [
    {
     "name": "stdout",
     "output_type": "stream",
     "text": [
      "{'k1': [11, 22, 33, 44, 55, 66], 'k2': [77, 88, 99, 90]}\n"
     ]
    }
   ],
   "source": [
    "di = {'k1':[],'k2':[]}\n",
    "li = [11,22,33,44,55,66,77,88,99,90]\n",
    "for number in li:\n",
    "    if number>66:\n",
    "        di['k2'].append(number)\n",
    "    else:\n",
    "        di['k1'].append(number)\n",
    "        \n",
    "print(di)"
   ]
  },
  {
   "cell_type": "markdown",
   "metadata": {},
   "source": [
    "# 题目八\n",
    "在不改变列表数据结构的情况下找最大值li = [1,3,2,7,6,23,41,243,33,85,56]。"
   ]
  },
  {
   "cell_type": "code",
   "execution_count": 88,
   "metadata": {},
   "outputs": [
    {
     "name": "stdout",
     "output_type": "stream",
     "text": [
      "max: 243\n",
      "li: [1, 3, 2, 7, 6, 23, 41, 243, 33, 85, 56]\n"
     ]
    }
   ],
   "source": [
    "li = [1,3,2,7,6,23,41,243,33,85,56]\n",
    "print('max:',max(li))\n",
    "print('li:',li)"
   ]
  },
  {
   "cell_type": "markdown",
   "metadata": {},
   "source": [
    "# 题目九\n",
    "在不改变列表中数据排列结构的前提下，找出以下列表中最接近最大值和最小值的平均值 的数\n",
    "\n",
    "li = [-100,1,3,2,7,6,120,121,140,23,411,99,243,33,85,56]。"
   ]
  },
  {
   "cell_type": "code",
   "execution_count": 93,
   "metadata": {},
   "outputs": [
    {
     "name": "stdout",
     "output_type": "stream",
     "text": [
      "result: 140\n"
     ]
    }
   ],
   "source": [
    "li = [-100,1,3,2,7,6,120,121,140,23,411,99,243,33,85,56]\n",
    "max_li = max(li)\n",
    "min_li = min(li)\n",
    "avg_li = (max_li+min_li)/2\n",
    "dif = abs(li[0]-avg_li)\n",
    "close_to_avg_index = 0\n",
    "for i in range(len(li)):\n",
    "    if abs(li[i]-avg_li) < dif:\n",
    "        dif = abs(li[i]-avg_li)\n",
    "        close_to_avg_index = i\n",
    "        \n",
    "print('result:',li[close_to_avg_index])"
   ]
  },
  {
   "cell_type": "markdown",
   "metadata": {},
   "source": [
    "# 题目十\n",
    "利用for循环和range输出9 * 9乘法表 "
   ]
  },
  {
   "cell_type": "code",
   "execution_count": 95,
   "metadata": {},
   "outputs": [
    {
     "name": "stdout",
     "output_type": "stream",
     "text": [
      "1 x 1 = 1\n",
      "1 x 2 = 2\n",
      "1 x 3 = 3\n",
      "1 x 4 = 4\n",
      "1 x 5 = 5\n",
      "1 x 6 = 6\n",
      "1 x 7 = 7\n",
      "1 x 8 = 8\n",
      "1 x 9 = 9\n",
      "2 x 1 = 2\n",
      "2 x 2 = 4\n",
      "2 x 3 = 6\n",
      "2 x 4 = 8\n",
      "2 x 5 = 10\n",
      "2 x 6 = 12\n",
      "2 x 7 = 14\n",
      "2 x 8 = 16\n",
      "2 x 9 = 18\n",
      "3 x 1 = 3\n",
      "3 x 2 = 6\n",
      "3 x 3 = 9\n",
      "3 x 4 = 12\n",
      "3 x 5 = 15\n",
      "3 x 6 = 18\n",
      "3 x 7 = 21\n",
      "3 x 8 = 24\n",
      "3 x 9 = 27\n",
      "4 x 1 = 4\n",
      "4 x 2 = 8\n",
      "4 x 3 = 12\n",
      "4 x 4 = 16\n",
      "4 x 5 = 20\n",
      "4 x 6 = 24\n",
      "4 x 7 = 28\n",
      "4 x 8 = 32\n",
      "4 x 9 = 36\n",
      "5 x 1 = 5\n",
      "5 x 2 = 10\n",
      "5 x 3 = 15\n",
      "5 x 4 = 20\n",
      "5 x 5 = 25\n",
      "5 x 6 = 30\n",
      "5 x 7 = 35\n",
      "5 x 8 = 40\n",
      "5 x 9 = 45\n",
      "6 x 1 = 6\n",
      "6 x 2 = 12\n",
      "6 x 3 = 18\n",
      "6 x 4 = 24\n",
      "6 x 5 = 30\n",
      "6 x 6 = 36\n",
      "6 x 7 = 42\n",
      "6 x 8 = 48\n",
      "6 x 9 = 54\n",
      "7 x 1 = 7\n",
      "7 x 2 = 14\n",
      "7 x 3 = 21\n",
      "7 x 4 = 28\n",
      "7 x 5 = 35\n",
      "7 x 6 = 42\n",
      "7 x 7 = 49\n",
      "7 x 8 = 56\n",
      "7 x 9 = 63\n",
      "8 x 1 = 8\n",
      "8 x 2 = 16\n",
      "8 x 3 = 24\n",
      "8 x 4 = 32\n",
      "8 x 5 = 40\n",
      "8 x 6 = 48\n",
      "8 x 7 = 56\n",
      "8 x 8 = 64\n",
      "8 x 9 = 72\n",
      "9 x 1 = 9\n",
      "9 x 2 = 18\n",
      "9 x 3 = 27\n",
      "9 x 4 = 36\n",
      "9 x 5 = 45\n",
      "9 x 6 = 54\n",
      "9 x 7 = 63\n",
      "9 x 8 = 72\n",
      "9 x 9 = 81\n"
     ]
    }
   ],
   "source": [
    "for i in range(1,10):\n",
    "    for j in range(1,10):\n",
    "        print('{} x {} = {}'.format(i,j,i*j))"
   ]
  },
  {
   "cell_type": "code",
   "execution_count": null,
   "metadata": {},
   "outputs": [],
   "source": []
  }
 ],
 "metadata": {
  "kernelspec": {
   "display_name": "Python 3",
   "language": "python",
   "name": "python3"
  },
  "language_info": {
   "codemirror_mode": {
    "name": "ipython",
    "version": 3
   },
   "file_extension": ".py",
   "mimetype": "text/x-python",
   "name": "python",
   "nbconvert_exporter": "python",
   "pygments_lexer": "ipython3",
   "version": "3.7.4"
  },
  "toc": {
   "base_numbering": 1,
   "nav_menu": {},
   "number_sections": true,
   "sideBar": true,
   "skip_h1_title": false,
   "title_cell": "Table of Contents",
   "title_sidebar": "Contents",
   "toc_cell": false,
   "toc_position": {},
   "toc_section_display": true,
   "toc_window_display": false
  }
 },
 "nbformat": 4,
 "nbformat_minor": 2
}
